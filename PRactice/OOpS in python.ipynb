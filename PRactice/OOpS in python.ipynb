{
 "cells": [
  {
   "cell_type": "code",
   "execution_count": 6,
   "id": "75882489",
   "metadata": {},
   "outputs": [
    {
     "name": "stdout",
     "output_type": "stream",
     "text": [
      "Enter your Desire time11 AM\n",
      "Name is Sameer\n",
      "train is Express\n",
      "Time is 11 AM\n",
      "Name is Sameer Ahmed\n",
      "train is Railwaay Express\n",
      "Time is 10 O'Clock\n"
     ]
    }
   ],
   "source": [
    "class RailwayForm:\n",
    "    formtype = \"Railway form\"\n",
    "    def Printdata(self):\n",
    "        print(f\"Name is {self.name}\")\n",
    "        print(f\"train is {self.train}\")\n",
    "        print(f\"Time is {self.time}\")\n",
    "applicationform = RailwayForm()\n",
    "applicationform.name = 'Sameer'\n",
    "applicationform.train = 'Express'\n",
    "applicationform.time = input(\"Enter your Desire time\")\n",
    "applicationform.Printdata()\n",
    "\n",
    "applicationform = RailwayForm()\n",
    "applicationform.name = 'Sameer Ahmed'\n",
    "applicationform.time = \"10 O'Clock\"\n",
    "applicationform.train = 'Railwaay Express'\n",
    "applicationform.Printdata()\n",
    "\n"
   ]
  },
  {
   "cell_type": "code",
   "execution_count": 8,
   "id": "d2d2c7c9",
   "metadata": {},
   "outputs": [
    {
     "name": "stdout",
     "output_type": "stream",
     "text": [
      "Enter your Desire time11\n",
      "Name is Sameer\n",
      "train is Express\n",
      "Time is 11\n",
      "Train form\n",
      "Name is Sameer Ahmed\n",
      "train is Railwaay Express\n",
      "Time is 10 O'Clock\n",
      "Rail FOrum\n"
     ]
    }
   ],
   "source": [
    "class RailwayForm:\n",
    "    formtype = \"Railway form\"\n",
    "    def Printdata(self):\n",
    "        print(f\"Name is {self.name}\")\n",
    "        print(f\"train is {self.train}\")\n",
    "        print(f\"Time is {self.time}\")\n",
    "applicationform = RailwayForm()\n",
    "applicationform.formtype = 'Train form'\n",
    "applicationform.name = 'Sameer'\n",
    "applicationform.train = 'Express'\n",
    "applicationform.time = input(\"Enter your Desire time\")\n",
    "applicationform.Printdata()\n",
    "print(applicationform.formtype)\n",
    "\n",
    "RailwayForm.formtype = 'Rail FOrum'\n",
    "application = RailwayForm()\n",
    "application.name = 'Sameer Ahmed'\n",
    "application.time = \"10 O'Clock\"\n",
    "application.train = 'Railwaay Express'\n",
    "application.Printdata()\n",
    "print(application.formtype)\n"
   ]
  },
  {
   "cell_type": "code",
   "execution_count": 33,
   "id": "afbf8e6b",
   "metadata": {},
   "outputs": [
    {
     "name": "stdout",
     "output_type": "stream",
     "text": [
      "Hello World\n",
      "Name is Sameer\n",
      "Age is 19\n",
      "language is Python\n",
      "The Salary of Employee working in  Sam Enterprise is 1000000 \n",
      " THanks!\n"
     ]
    }
   ],
   "source": [
    "class Employee:\n",
    "    companyname = ' Sam Enterprise'\n",
    "    def __init__(self,name,age,lang):\n",
    "        self.name = name\n",
    "        self.age = age\n",
    "        self.lang = lang\n",
    "        print(\"Hello World\")\n",
    "    def GD(self):\n",
    "        print(f\"Name is {self.name}\")\n",
    "        print(f\"Age is {self.age}\")\n",
    "        print(f\"language is {self.lang}\")\n",
    "    def getsalary(self,Thanku):\n",
    "        print(f\"The Salary of Employee working in {self.companyname} is {self.salary} \\n {Thanku}\")\n",
    "    @staticmethod\n",
    "    def greet():\n",
    "        print(\"Good MOrining, sir\")\n",
    "        \n",
    "sameer = Employee(\"Sameer\",19,'Python')\n",
    "sameer.GD()\n",
    "sameer.salary = 1000000\n",
    "sameer.getsalary('THanks!')\n",
    "\n"
   ]
  },
  {
   "cell_type": "code",
   "execution_count": 38,
   "id": "2b0fe39f",
   "metadata": {},
   "outputs": [
    {
     "name": "stdout",
     "output_type": "stream",
     "text": [
      "Name is Sameer Ahmed \n",
      "age is 19 \n",
      "salry is 100k \n",
      "time of work is 5 years\n",
      "LAnguage is Python\n"
     ]
    }
   ],
   "source": [
    "class Programmer:\n",
    "    company = \"Microsoft\"\n",
    "    def __init__(self,name,age,salary,timeofwork,lang):\n",
    "        self.name = name\n",
    "        self.age = age\n",
    "        self.salary = salary\n",
    "        self.timeofwork = timeofwork\n",
    "        self.lang = lang\n",
    "        \n",
    "    def getDetails(self):\n",
    "        print(f\"Name is {self.name} \\nage is {self.age} \\nsalry is {self.salary} \\ntime of work is {self.timeofwork}\\nLAnguage is {self.lang}\") \n",
    "        \n",
    "sameer = Programmer(\"Sameer Ahmed\", 19, '100k','5 years','Python')\n",
    "sameer.getDetails()\n",
    "\n",
    "    "
   ]
  },
  {
   "cell_type": "code",
   "execution_count": 43,
   "id": "a3f18ec4",
   "metadata": {},
   "outputs": [
    {
     "name": "stdout",
     "output_type": "stream",
     "text": [
      "Square is 4\n",
      "cube is 27\n",
      "Square root is 3.0\n"
     ]
    }
   ],
   "source": [
    "class Calculate:\n",
    "    def __init__(self,sqrt,cube,sq):\n",
    "        self.sqrt = sqrt\n",
    "        self.cube = cube\n",
    "        self.sq = sq\n",
    "    def Print(self):\n",
    "        print(f\"Square is {self.sq**2}\")\n",
    "        print(f\"cube is {self.cube**3}\")\n",
    "        print(f\"Square root is {self.sqrt**0.5}\")\n",
    "        \n",
    "number = Calculate(9,3,2)\n",
    "number.Print()"
   ]
  },
  {
   "cell_type": "code",
   "execution_count": null,
   "id": "44e5c96c",
   "metadata": {},
   "outputs": [],
   "source": []
  }
 ],
 "metadata": {
  "kernelspec": {
   "display_name": "Python 3 (ipykernel)",
   "language": "python",
   "name": "python3"
  },
  "language_info": {
   "codemirror_mode": {
    "name": "ipython",
    "version": 3
   },
   "file_extension": ".py",
   "mimetype": "text/x-python",
   "name": "python",
   "nbconvert_exporter": "python",
   "pygments_lexer": "ipython3",
   "version": "3.9.7"
  }
 },
 "nbformat": 4,
 "nbformat_minor": 5
}
