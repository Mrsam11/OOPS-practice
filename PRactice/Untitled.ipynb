{
 "cells": [
  {
   "cell_type": "code",
   "execution_count": 6,
   "id": "d01247af",
   "metadata": {},
   "outputs": [],
   "source": [
    "class Employee:\n",
    "    def __init__(self,first_name,last_name,salary):\n",
    "        self.first_name = first_name\n",
    "        self.last_name = last_name\n",
    "        self.salary = salary\n",
    "        \n",
    "    def display(self):\n",
    "        print(f\"First name is {self.first_name} \\nLast name is {self.last_name} and salary is {self.salary}\")\n",
    "        \n",
    "    def increment(self,change):\n",
    "        self.salary = change"
   ]
  },
  {
   "cell_type": "code",
   "execution_count": 11,
   "id": "07a61152",
   "metadata": {},
   "outputs": [
    {
     "name": "stdout",
     "output_type": "stream",
     "text": [
      "First name is Sameer \n",
      "Last name is Ahmed and salary is 10000\n",
      "First name is Sameer \n",
      "Last name is Ahmed and salary is 20000\n",
      "20000\n"
     ]
    }
   ],
   "source": [
    "emp1 = Employee(\"Sameer\",\"Ahmed\",10000) #Emp1 is an object of the class not variable\n",
    "emp1.display() #Calling class\n",
    "emp1.increment(20000)\n",
    "emp1.display()\n",
    "print(emp1.salary) #for printing single item from class "
   ]
  },
  {
   "cell_type": "code",
   "execution_count": null,
   "id": "ab06d88c",
   "metadata": {},
   "outputs": [],
   "source": [
    "class Library:\n",
    "    def __init__(self, listofbooks):\n",
    "        self.available = listofbooks\n",
    "        \n",
    "    def display(self):\n",
    "        print(\"Available books in library are : \")\n",
    "        for book in self.available:\n",
    "            print(book)\n",
    "            \n",
    "    def lend(self, requested):\n",
    "        if requested in self.available:\n",
    "            print(f\"Now you can have the book {requested}\")\n",
    "            self.available.remove(requested)\n",
    "        else:\n",
    "            print(f\"The requested book {requested} is not available in library\")\n",
    "            \n",
    "    def add_book(self, adding):\n",
    "        if adding in self.available:\n",
    "            print(\"We Already have that book\")\n",
    "        else:\n",
    "            print(\"Thank you for book\")\n",
    "            self.available.append(adding)\n",
    "    "
   ]
  }
 ],
 "metadata": {
  "kernelspec": {
   "display_name": "Python 3 (ipykernel)",
   "language": "python",
   "name": "python3"
  },
  "language_info": {
   "codemirror_mode": {
    "name": "ipython",
    "version": 3
   },
   "file_extension": ".py",
   "mimetype": "text/x-python",
   "name": "python",
   "nbconvert_exporter": "python",
   "pygments_lexer": "ipython3",
   "version": "3.9.7"
  }
 },
 "nbformat": 4,
 "nbformat_minor": 5
}
